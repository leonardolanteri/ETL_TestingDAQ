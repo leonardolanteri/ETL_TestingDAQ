{
 "cells": [
  {
   "cell_type": "code",
   "execution_count": 1,
   "metadata": {},
   "outputs": [],
   "source": [
    "import re\n",
    "import fnmatch\n",
    "from pathlib import Path\n",
    "from typing import List, Set"
   ]
  },
  {
   "cell_type": "code",
   "execution_count": null,
   "metadata": {},
   "outputs": [
    {
     "name": "stdout",
     "output_type": "stream",
     "text": [
      "38\n"
     ]
    }
   ],
   "source": [
    "def find_run_numbers(directory: Path, reg_expression: str) -> Set[int]:\n",
    "    \"\"\"\n",
    "    Finds all run numbers in a directory based off of a regular expression.\n",
    "    Supports only one capture group in the regular expression (this should be the run number!)\n",
    "    \"\"\"\n",
    "    run_numbers = set()\n",
    "    if not directory.is_dir():\n",
    "        raise NotADirectoryError(f\"Directory not found for: {directory}\")\n",
    "    \n",
    "    expression = re.compile(reg_expression)\n",
    "    for file in directory.iterdir():\n",
    "        if not file.is_file():\n",
    "            continue\n",
    "\n",
    "        if match := expression.match(file.name):\n",
    "            if len(match.groups()) != 1:\n",
    "                raise ValueError(f\"Please provide only one capture group in regular expresion, {len(match.groups())} found. Remember in regex capture groups are denoted by parenthesis ()\") \n",
    "            run_num_raw = match.group(1)\n",
    "            if run_num_raw.isdigit():\n",
    "                run_numbers.add(int(run_num_raw))\n",
    "            else:\n",
    "                raise ValueError(f\"Your inputted regular expression did not output an integer. Output: {run_num_raw}\")\n",
    "    return run_numbers\n",
    "\n",
    "\n",
    "binaries = find_run_numbers(\n",
    "    Path(\"/home/etl/Test_Stand/ETL_TestingDAQ/Test_Beam_Data/DebugTB/daq/etroc_binaries\"),\n",
    "    r\"output_run_(\\d+)_rb0.dat\"\n",
    ")\n",
    "\n",
    "hitmaps = find_run_numbers(\n",
    "    Path(\"/home/etl/Test_Stand/ETL_TestingDAQ/Test_Beam_Data/DebugTB/watchdog/etroc_hitmaps\"),\n",
    "    r\"output_run_(\\d+)_rb0.png\"\n",
    ")\n",
    "\n",
    "# return all non matching elements \n",
    "\n",
    "missing_runs = list(set(binaries)-set(hitmaps))\n",
    "\n",
    "for run in missing_runs:\n",
    "    # make hitmaps at location\n",
    "    ...\n"
   ]
  },
  {
   "cell_type": "code",
   "execution_count": 2,
   "metadata": {},
   "outputs": [
    {
     "name": "stdout",
     "output_type": "stream",
     "text": [
      "Invalid input (a), try again\n",
      "Sorry this is not implemented\n",
      "Watchdog starting at run: 3\n"
     ]
    }
   ],
   "source": [
    "startup_prompt = \"\"\"\n",
    "Please choose one of the following options by inputting 1,2 or 3:\n",
    "1. Start from last run\n",
    "2. Custom run start, choosing this will start watchdog from this run number\n",
    "3. Same as 2, but you can choose a run to stop the watchdog at.                                                               \n",
    "\"\"\"\n",
    "run_start = None\n",
    "while not run_start:\n",
    "    startup_input = input(startup_prompt).strip()\n",
    "    if startup_input == \"1\":\n",
    "        print(\"Sorry this is not implemented\")\n",
    "    elif startup_input == \"2\":\n",
    "        run_start_raw = input(\"What is your run number?\").strip()\n",
    "        if not run_start_raw.isdigit():\n",
    "            print(f\"Your chosen starting run number is not a number: {run_start_raw}\")\n",
    "        run_start = int(run_start_raw)\n",
    "    elif startup_input == \"3\":\n",
    "        print(\"Sorry this is not implemented\")\n",
    "    else:\n",
    "        print(f\"Invalid input ({startup_input}), try again\")\n",
    "\n",
    "print(f\"Watchdog starting at run: {run_start}\")\n"
   ]
  }
 ],
 "metadata": {
  "kernelspec": {
   "display_name": "etl_testing_daq",
   "language": "python",
   "name": "python3"
  },
  "language_info": {
   "codemirror_mode": {
    "name": "ipython",
    "version": 3
   },
   "file_extension": ".py",
   "mimetype": "text/x-python",
   "name": "python",
   "nbconvert_exporter": "python",
   "pygments_lexer": "ipython3",
   "version": "3.8.20"
  }
 },
 "nbformat": 4,
 "nbformat_minor": 2
}
