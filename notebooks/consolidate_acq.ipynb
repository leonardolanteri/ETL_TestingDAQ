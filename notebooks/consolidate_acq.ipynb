{
 "cells": [
  {
   "cell_type": "code",
   "execution_count": 13,
   "metadata": {},
   "outputs": [
    {
     "ename": "",
     "evalue": "",
     "output_type": "error",
     "traceback": [
      "\u001b[1;31mRunning cells with 'etl_testing_daq (Python 3.12.0)' requires the ipykernel package.\n",
      "\u001b[1;31mRun the following command to install 'ipykernel' into the Python environment. \n",
      "\u001b[1;31mCommand: 'conda install -n etl_testing_daq ipykernel --update-deps --force-reinstall'"
     ]
    }
   ],
   "source": [
    "\"\"\"\n",
    "Decodes the ETROC and Oscilliscope binary\n",
    "Performs fit on the KCU Clock and MCP signals\n",
    "\"\"\"\n",
    "import sys\n",
    "sys.path.append(\"..\")\n",
    "\n",
    "from binary_decoders import etroc, lecroy\n",
    "from oscilliscope_fitting import clock, mcp\n",
    "import awkward as ak\n",
    "import uproot\n",
    "import importlib"
   ]
  },
  {
   "cell_type": "code",
   "execution_count": null,
   "metadata": {},
   "outputs": [],
   "source": [
    "\n",
    "# CLOCK CONFIGURABLES\n",
    "CLOCK_THRESH_LOW, CLOCK_THRESH_HIGH = 0.25, 0.8 #used to pick out the edges (between 0 and 1, percentage of the absolute amplitude)\n",
    "CLOCK_MEAUREMENT_POINT = 0.5 #between 0 and 1, after the fit, where along the fitted y axis do we take the clock value\n",
    "CHANNEL_NUM = 1 #channel with square wave voltage (by index!! so subtract 1 to whatever it is on oscilloscope)\n",
    "\n",
    "\n",
    "def consolidate_acquisition(output_file_path: str, etroc_binary_paths: list[str], mcp_binary_path: str, clock_binary_path: str):\n",
    "    def convert_etroc_binary() -> ak.Array:\n",
    "        first_binary_convert = etroc.converter(etroc_binary_paths, skip_trigger_check=True)\n",
    "        return etroc.root_dumper(first_binary_convert) # root dumper name is due to history\n",
    "\n",
    "    def convert_mcp_binary() -> ak.Array:\n",
    "        return lecroy.LecroyReader(mcp_binary_path)\n",
    "\n",
    "    def convert_clock_binary() -> ak.Array:\n",
    "        return lecroy.LecroyReader(clock_binary_path)\n",
    "\n",
    "    print(\"Converting ETROC Binary\")\n",
    "    etroc_data = convert_etroc_binary()\n",
    "\n",
    "    print(\"Converting MCP Channel Binary\")\n",
    "    mcp_waveform = convert_mcp_binary()\n",
    "    # fit mcp using dat2root stuff keep it as general \"fitting\" and return only the used fitting params\n",
    "    # -> all LP2_XX and amp\n",
    "    print(\"Performing fit on MCP\")\n",
    "    mcp_fit_data = mcp.fit(mcp_waveform)\n",
    "\n",
    "    print(\"Converting Clock Channel Binary\")\n",
    "    clock_waveform = convert_clock_binary()\n",
    "    print(\"Performing Clock Wavefrom Fits\")\n",
    "    clock_timestamps = clock.calc_clock(\n",
    "        clock_waveform.x, \n",
    "        clock_waveform.y,\n",
    "        CLOCK_THRESH_LOW, CLOCK_THRESH_HIGH, CLOCK_MEAUREMENT_POINT\n",
    "    )\n",
    "\n",
    "    print(\"Merging MCP, and clock fits\")\n",
    "    mcp_map = dict(zip(\n",
    "        ak.fields(mcp_waveform), ak.unzip(mcp_waveform)\n",
    "    ))\n",
    "    mcp_fit_map = dict(zip(\n",
    "        ak.fields(mcp_fit_data), ak.unzip(mcp_fit_data)\n",
    "    ))\n",
    "    etroc_data_map = dict(zip(\n",
    "        ak.fields(etroc_data), ak.unzip(etroc_data)\n",
    "    ))\n",
    "    \n",
    "    #NOTE !!!!!!!ORDER MATTERS!!!!!!!!!!! \n",
    "    # THE CHANNEL FIELD FOR SCOPE_DATA IS DIFFERENT THAN RECO DATA!\n",
    "    # taking reco data channels because of what was done previously...\n",
    "    merged_data_map = mcp_fit_map | mcp_map |  etroc_data_map\n",
    "    \n",
    "    merged_data_map['Clock'] = clock_timestamps\n",
    "\n",
    "    with uproot.recreate(output_file_path) as output:\n",
    "        output[\"pulse\"] = merged_data_map"
   ]
  },
  {
   "cell_type": "code",
   "execution_count": 33,
   "metadata": {},
   "outputs": [
    {
     "name": "stderr",
     "output_type": "stream",
     "text": [
      "/home/users/hswanson13/ETL_TestingDAQ/oscilliscope_fitting/NetScopeStandalone_Dat2Root_MCP_FITTER: error while loading shared libraries: libThread.so: cannot open shared object file: No such file or directory\n"
     ]
    },
    {
     "ename": "CalledProcessError",
     "evalue": "Command '/home/users/hswanson13/ETL_TestingDAQ/oscilliscope_fitting/NetScopeStandalone_Dat2Root_MCP_FITTER --correctForTimeOffsets --input_file=/tmp/input_dat2root_temp.root --output_file=/tmp/output_dat2root_temp.root --config=/home/users/hswanson13/ETL_TestingDAQ/oscilliscope_fitting/LecroyScope_v12.config --save_meas' returned non-zero exit status 127.",
     "output_type": "error",
     "traceback": [
      "\u001b[0;31m---------------------------------------------------------------------------\u001b[0m",
      "\u001b[0;31mCalledProcessError\u001b[0m                        Traceback (most recent call last)",
      "Cell \u001b[0;32mIn[33], line 63\u001b[0m\n\u001b[1;32m     43\u001b[0m     \u001b[38;5;28;01mreturn\u001b[39;00m ak\u001b[38;5;241m.\u001b[39mArray({\n\u001b[1;32m     44\u001b[0m         \u001b[38;5;124m\"\u001b[39m\u001b[38;5;124mi_evt\u001b[39m\u001b[38;5;124m\"\u001b[39m: \u001b[38;5;28mlist\u001b[39m(\u001b[38;5;28mrange\u001b[39m(\u001b[38;5;28mlen\u001b[39m(clock_reader\u001b[38;5;241m.\u001b[39mx))),\n\u001b[1;32m     45\u001b[0m         \u001b[38;5;124m\"\u001b[39m\u001b[38;5;124msegment_time\u001b[39m\u001b[38;5;124m\"\u001b[39m: ref_trigger_offset,\n\u001b[0;32m   (...)\u001b[0m\n\u001b[1;32m     56\u001b[0m             axis\u001b[38;5;241m=\u001b[39m\u001b[38;5;241m1\u001b[39m)\n\u001b[1;32m     57\u001b[0m     })\n\u001b[1;32m     59\u001b[0m generate_old_awk_array(\n\u001b[1;32m     60\u001b[0m     ref_channel, mcp_data, clock_data\n\u001b[1;32m     61\u001b[0m )\n\u001b[0;32m---> 63\u001b[0m mcp_fit_data \u001b[38;5;241m=\u001b[39m mcp\u001b[38;5;241m.\u001b[39mfit(\n\u001b[1;32m     64\u001b[0m     old, \n\u001b[1;32m     65\u001b[0m     dat2root_path\u001b[38;5;241m=\u001b[39m\u001b[38;5;124m\"\u001b[39m\u001b[38;5;124m/home/users/hswanson13/ETL_TestingDAQ/oscilliscope_fitting/NetScopeStandalone_Dat2Root_MCP_FITTER\u001b[39m\u001b[38;5;124m\"\u001b[39m, \n\u001b[1;32m     66\u001b[0m     config_path\u001b[38;5;241m=\u001b[39m\u001b[38;5;124m\"\u001b[39m\u001b[38;5;124m/home/users/hswanson13/ETL_TestingDAQ/oscilliscope_fitting/LecroyScope_v12.config\u001b[39m\u001b[38;5;124m\"\u001b[39m\n\u001b[1;32m     67\u001b[0m )\n",
      "File \u001b[0;32m~/ETL_TestingDAQ/notebooks/../oscilliscope_fitting/mcp.py:62\u001b[0m, in \u001b[0;36mfit\u001b[0;34m(mcp_waveform, **kwargs)\u001b[0m\n\u001b[1;32m     61\u001b[0m \u001b[38;5;28;01mdef\u001b[39;00m \u001b[38;5;21mfit\u001b[39m(mcp_waveform: ak\u001b[38;5;241m.\u001b[39mArray) \u001b[38;5;241m-\u001b[39m\u001b[38;5;241m>\u001b[39m ak\u001b[38;5;241m.\u001b[39mArray:\n\u001b[0;32m---> 62\u001b[0m     \u001b[38;5;28;01mwith\u001b[39;00m Dat2RootFit(mcp_waveform) \u001b[38;5;28;01mas\u001b[39;00m fit_manager:\n\u001b[1;32m     63\u001b[0m         fit_data \u001b[38;5;241m=\u001b[39m fit_manager\u001b[38;5;241m.\u001b[39moutput()\n\u001b[1;32m     65\u001b[0m         \u001b[38;5;66;03m# take the fields you want and just return those\u001b[39;00m\n",
      "File \u001b[0;32m~/ETL_TestingDAQ/notebooks/../oscilliscope_fitting/mcp.py:28\u001b[0m, in \u001b[0;36mDat2RootFit.__enter__\u001b[0;34m(self)\u001b[0m\n\u001b[1;32m     26\u001b[0m \u001b[38;5;28mself\u001b[39m\u001b[38;5;241m.\u001b[39m_convert_to_root(\u001b[38;5;28mself\u001b[39m\u001b[38;5;241m.\u001b[39minput_path)\n\u001b[1;32m     27\u001b[0m \u001b[38;5;66;03m# run dat2root\u001b[39;00m\n\u001b[0;32m---> 28\u001b[0m \u001b[38;5;28mself\u001b[39m\u001b[38;5;241m.\u001b[39m_run_dat2root()\n\u001b[1;32m     29\u001b[0m \u001b[38;5;28;01mreturn\u001b[39;00m \u001b[38;5;28mself\u001b[39m\n",
      "File \u001b[0;32m~/ETL_TestingDAQ/notebooks/../oscilliscope_fitting/mcp.py:53\u001b[0m, in \u001b[0;36mDat2RootFit._run_dat2root\u001b[0;34m(self)\u001b[0m\n\u001b[1;32m     46\u001b[0m \u001b[38;5;66;03m# /home/etl/Test_Stand/ETL_TestingDAQ/TimingDAQ/config/LecroyScope_v12.config\u001b[39;00m\n\u001b[1;32m     47\u001b[0m \u001b[38;5;66;03m# Construct the command\u001b[39;00m\n\u001b[1;32m     48\u001b[0m DattorootCmd \u001b[38;5;241m=\u001b[39m (\n\u001b[1;32m     49\u001b[0m     \u001b[38;5;124mf\u001b[39m\u001b[38;5;124m'\u001b[39m\u001b[38;5;132;01m{\u001b[39;00m\u001b[38;5;28mself\u001b[39m\u001b[38;5;241m.\u001b[39mdat2root_path\u001b[38;5;132;01m}\u001b[39;00m\u001b[38;5;124m \u001b[39m\u001b[38;5;124m'\u001b[39m\n\u001b[1;32m     50\u001b[0m     \u001b[38;5;124mf\u001b[39m\u001b[38;5;124m'\u001b[39m\u001b[38;5;124m--correctForTimeOffsets --input_file=\u001b[39m\u001b[38;5;132;01m{\u001b[39;00m\u001b[38;5;28mself\u001b[39m\u001b[38;5;241m.\u001b[39minput_path\u001b[38;5;132;01m}\u001b[39;00m\u001b[38;5;124m \u001b[39m\u001b[38;5;124m'\u001b[39m\n\u001b[1;32m     51\u001b[0m     \u001b[38;5;124mf\u001b[39m\u001b[38;5;124m'\u001b[39m\u001b[38;5;124m--output_file=\u001b[39m\u001b[38;5;132;01m{\u001b[39;00m\u001b[38;5;28mself\u001b[39m\u001b[38;5;241m.\u001b[39moutput_path\u001b[38;5;132;01m}\u001b[39;00m\u001b[38;5;124m --config=\u001b[39m\u001b[38;5;132;01m{\u001b[39;00m\u001b[38;5;28mself\u001b[39m\u001b[38;5;241m.\u001b[39mconfig_path\u001b[38;5;132;01m}\u001b[39;00m\u001b[38;5;124m --save_meas\u001b[39m\u001b[38;5;124m'\u001b[39m\n\u001b[1;32m     52\u001b[0m )\n\u001b[0;32m---> 53\u001b[0m subprocess\u001b[38;5;241m.\u001b[39mrun(DattorootCmd, shell\u001b[38;5;241m=\u001b[39m\u001b[38;5;28;01mTrue\u001b[39;00m, check\u001b[38;5;241m=\u001b[39m\u001b[38;5;28;01mTrue\u001b[39;00m)\n",
      "File \u001b[0;32m~/miniconda3/envs/etl_testing_daq/lib/python3.12/subprocess.py:571\u001b[0m, in \u001b[0;36mrun\u001b[0;34m(input, capture_output, timeout, check, *popenargs, **kwargs)\u001b[0m\n\u001b[1;32m    569\u001b[0m     retcode \u001b[38;5;241m=\u001b[39m process\u001b[38;5;241m.\u001b[39mpoll()\n\u001b[1;32m    570\u001b[0m     \u001b[38;5;28;01mif\u001b[39;00m check \u001b[38;5;129;01mand\u001b[39;00m retcode:\n\u001b[0;32m--> 571\u001b[0m         \u001b[38;5;28;01mraise\u001b[39;00m CalledProcessError(retcode, process\u001b[38;5;241m.\u001b[39margs,\n\u001b[1;32m    572\u001b[0m                                  output\u001b[38;5;241m=\u001b[39mstdout, stderr\u001b[38;5;241m=\u001b[39mstderr)\n\u001b[1;32m    573\u001b[0m \u001b[38;5;28;01mreturn\u001b[39;00m CompletedProcess(process\u001b[38;5;241m.\u001b[39margs, retcode, stdout, stderr)\n",
      "\u001b[0;31mCalledProcessError\u001b[0m: Command '/home/users/hswanson13/ETL_TestingDAQ/oscilliscope_fitting/NetScopeStandalone_Dat2Root_MCP_FITTER --correctForTimeOffsets --input_file=/tmp/input_dat2root_temp.root --output_file=/tmp/output_dat2root_temp.root --config=/home/users/hswanson13/ETL_TestingDAQ/oscilliscope_fitting/LecroyScope_v12.config --save_meas' returned non-zero exit status 127."
     ]
    }
   ],
   "source": [
    "importlib.reload(lecroy)\n",
    "importlib.reload(mcp)\n",
    "import matplotlib.pyplot as plt\n",
    "import numpy as np\n",
    "\n",
    "\n",
    "ref_channel = lecroy.LecroyReader(\"/home/users/hswanson13/ETL_TestingDAQ/unit_test/input_data/run_5100/C4--Trace5100.trc\")\n",
    "r_trig, r_horz = ref_channel.get_segment_times()\n",
    "# plt.scatter(ref_channel.x[0], ref_channel.y[0])\n",
    "\n",
    "mcp_data = lecroy.LecroyReader(\"/home/users/hswanson13/ETL_TestingDAQ/unit_test/input_data/run_5100/C2--Trace5100.trc\")\n",
    "m_trig, m_horz = mcp_data.get_segment_times()\n",
    "\n",
    "clock_data = lecroy.LecroyReader(\"/home/users/hswanson13/ETL_TestingDAQ/unit_test/input_data/run_5100/C3--Trace5100.trc\")\n",
    "\n",
    "c_trig, c_horz = clock_data.get_segment_times()\n",
    "\n",
    "old = uproot.open(\n",
    "    \"/home/users/hswanson13/ETL_TestingDAQ/unit_test/asserted_output/run_5100/converted_run5100.root\"\n",
    ")[\"pulse\"].arrays()\n",
    "\n",
    "# print(old.type.show())\n",
    "# print(old[\"timeoffsets\"][:,2])\n",
    "# print(c_horz - m_horz)\n",
    "# print(m_horz - c_horz)\n",
    "# print(c_horz - r_horz)\n",
    "\n",
    "\n",
    "def generate_old_awk_array(oscilliscope_reference_reader: lecroy.LecroyReader, mcp_reader: lecroy.LecroyReader, clock_reader: lecroy.LecroyReader) -> ak.Array:\n",
    "    \"\"\"\n",
    "    This is just so it can work with the old code (ie the dat2root compiled script). If an updated mcp fitting routine was made this code could be removed.\n",
    "    5000 * {\n",
    "        i_evt: uint32,\n",
    "        segment_time: float32,\n",
    "        channel: 4 * 502 * float32,\n",
    "        time: 1 * 502 * float32,\n",
    "        timeoffsets: 8 * float32 #one for each channel\n",
    "    }\n",
    "    \"\"\"\n",
    "    ref_trigger_offset, ref_horz_offset = oscilliscope_reference_reader.get_segment_times()\n",
    "    _, mcp_horz_offset = mcp_reader.get_segment_times()\n",
    "    _, clock_horz_offset = clock_reader.get_segment_times()\n",
    "    return ak.Array({\n",
    "        \"i_evt\": list(range(len(clock_reader.x))),\n",
    "        \"segment_time\": ref_trigger_offset,\n",
    "        \"channel\": np.stack(\n",
    "            [oscilliscope_reference_reader.y, \n",
    "             mcp_reader.y, \n",
    "             clock_reader.y], \n",
    "            axis=1),\n",
    "        \"time\": clock_reader.x,\n",
    "        \"timeoffsets\": np.stack(\n",
    "            [ref_horz_offset-ref_horz_offset, \n",
    "             mcp_horz_offset-ref_horz_offset, \n",
    "             clock_horz_offset-ref_horz_offset], \n",
    "            axis=1)\n",
    "    })\n",
    "\n",
    "generate_old_awk_array(\n",
    "    ref_channel, mcp_data, clock_data\n",
    ")\n",
    "\n",
    "mcp_fit_data = mcp.fit(\n",
    "    old, \n",
    "    dat2root_path=\"/home/users/hswanson13/ETL_TestingDAQ/oscilliscope_fitting/NetScopeStandalone_Dat2Root_MCP_FITTER\", \n",
    "    config_path=\"/home/users/hswanson13/ETL_TestingDAQ/oscilliscope_fitting/LecroyScope_v12.config\"\n",
    ")"
   ]
  },
  {
   "cell_type": "code",
   "execution_count": 26,
   "metadata": {},
   "outputs": [
    {
     "name": "stdout",
     "output_type": "stream",
     "text": [
      "5000 * {\n",
      "    event: int32,\n",
      "    l1counter: int32,\n",
      "    row: var * int32,\n",
      "    col: var * int32,\n",
      "    tot_code: var * float32,\n",
      "    toa_code: var * float32,\n",
      "    cal_code: var * float32,\n",
      "    elink: var * float32,\n",
      "    crc: var * int32,\n",
      "    chipid: var * int32,\n",
      "    bcid: int32,\n",
      "    counter_a: var * int32,\n",
      "    nhits: int32,\n",
      "    nhits_trail: var * int32\n",
      "}\n"
     ]
    }
   ],
   "source": [
    "old = uproot.open(\n",
    "\"/home/users/hswanson13/ETL_TestingDAQ/unit_test/asserted_output/run_5100/output_run_5100_rb0.root\")[\"pulse\"].arrays()\n",
    "\n",
    "old.type.show()"
   ]
  },
  {
   "cell_type": "code",
   "execution_count": 28,
   "metadata": {},
   "outputs": [
    {
     "data": {
      "text/plain": [
       "array([[ 1,  1,  1,  1],\n",
       "       [ 2,  2,  2,  2],\n",
       "       [ 3,  3,  3,  3],\n",
       "       [ 4,  4,  4,  4],\n",
       "       [ 5,  5,  5,  5],\n",
       "       [ 6,  6,  6,  6],\n",
       "       [ 7,  7,  7,  7],\n",
       "       [ 8,  8,  8,  8],\n",
       "       [ 9,  9,  9,  9],\n",
       "       [10, 10, 10, 10]])"
      ]
     },
     "execution_count": 28,
     "metadata": {},
     "output_type": "execute_result"
    }
   ],
   "source": [
    "import numpy as np\n",
    "a = np.array([1,2,3,4,5,6,7,8,9,10])\n",
    "b = np.array([1,2,3,4,5,6,7,8,9,10])\n",
    "c = np.array([1,2,3,4,5,6,7,8,9,10])\n",
    "d = np.array([1,2,3,4,5,6,7,8,9,10])\n",
    "\n",
    "np.stack([a,b,c,d], axis=1)"
   ]
  }
 ],
 "metadata": {
  "kernelspec": {
   "display_name": "etl_testing_daq",
   "language": "python",
   "name": "python3"
  },
  "language_info": {
   "codemirror_mode": {
    "name": "ipython",
    "version": 3
   },
   "file_extension": ".py",
   "mimetype": "text/x-python",
   "name": "python",
   "nbconvert_exporter": "python",
   "pygments_lexer": "ipython3",
   "version": "3.12.0"
  }
 },
 "nbformat": 4,
 "nbformat_minor": 2
}
