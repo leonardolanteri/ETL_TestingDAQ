{
 "cells": [
  {
   "cell_type": "code",
   "execution_count": 2,
   "metadata": {},
   "outputs": [],
   "source": [
    "import sys\n",
    "sys.path.append(\"..\")\n",
    "import uproot\n",
    "import awkward as ak\n",
    "from binary_decoders import lecroy\n",
    "\n",
    "import matplotlib.pyplot as plt\n",
    "from importlib import reload"
   ]
  },
  {
   "cell_type": "code",
   "execution_count": null,
   "metadata": {},
   "outputs": [
    {
     "data": {
      "text/plain": [
       "<matplotlib.collections.PathCollection at 0x7fdfb356d580>"
      ]
     },
     "execution_count": 21,
     "metadata": {},
     "output_type": "execute_result"
    },
    {
     "data": {
      "image/png": "[encoded data removed]",
      "text/plain": [
       "<Figure size 640x480 with 1 Axes>"
      ]
     },
     "metadata": {},
     "output_type": "display_data"
    }
   ],
   "source": [
    "reload(lecroy)\n",
    "\n",
    "C1 = lecroy.LecroyReader(\"unit_test/input_data/run_5100/C1--Trace5100.trc\")\n",
    "C2 = lecroy.LecroyReader(\"unit_test/input_data/run_5100/C2--Trace5100.trc\") # TRIGGER\n",
    "C3 = lecroy.LecroyReader(\"unit_test/input_data/run_5100/C3--Trace5100.trc\") # CLOCK\n",
    "C4 = lecroy.LecroyReader(\"unit_test/input_data/run_5100/C4--Trace5100.trc\")\n",
    "\n",
    "C = C2\n",
    "plt.scatter(C.x[1], C.y[-1])"
   ]
  },
  {
   "cell_type": "code",
   "execution_count": null,
   "metadata": {},
   "outputs": [],
   "source": [
    "import awkward as ak\n",
    "\n",
    "array = ak.Array({\n",
    "    'i_evt': [i for i in range(len(t))],\n",
    "    'seconds': x,\n",
    "    'volts': y \n",
    "})\n",
    "\n",
    "output_path = \"test.root\"\n",
    "with uproot.recreate(output_path) as file:\n",
    "    file[\"pulse\"] = array\n"
   ]
  },
  {
   "cell_type": "code",
   "execution_count": 61,
   "metadata": {},
   "outputs": [
    {
     "name": "stdout",
     "output_type": "stream",
     "text": [
      "80000\n",
      "5000 * {\n",
      "    i_evt: uint32,\n",
      "    segment_time: float32,\n",
      "    channel: 4 * 502 * float32,\n",
      "    time: 1 * 502 * float32,\n",
      "    timeoffsets: 8 * float32\n",
      "}\n",
      "None\n",
      "[0, 0.00131, 0.00184, 0.00288, 0.0034, 0.00393, ..., 14, 14, 14, 14, 14, 14]\n",
      "[0, 1, 2, 3, 4, 5, 6, 7, 8, ..., 4992, 4993, 4994, 4995, 4996, 4997, 4998, 4999]\n",
      "5000 * {\n",
      "    i_evt: int64,\n",
      "    seconds: 502 * float64,\n",
      "    volts: 502 * float32\n",
      "}\n",
      "None\n"
     ]
    }
   ],
   "source": [
    "old = uproot.open(\n",
    "    \"converted_run5100.root\"\n",
    ")[\"pulse\"].arrays()\n",
    "\n",
    "new = uproot.open(\"test.root\")[\"pulse\"].arrays()\n",
    "\n",
    "print(new.i_evt)\n",
    "print(new.type.show())"
   ]
  },
  {
   "cell_type": "code",
   "execution_count": 88,
   "metadata": {},
   "outputs": [
    {
     "name": "stdout",
     "output_type": "stream",
     "text": [
      "[2.e-12 2.e-12 2.e-12 ... 2.e-12 2.e-12 2.e-12]\n",
      "[[0, 1.4e-11, 1.6e-11, 2.5e-11, 0, 0, 0, 0], ..., [0, 1.4e-11, ..., 0, 0]]\n"
     ]
    }
   ],
   "source": [
    "# segment_time2, horizontal_offset2 = C2.get_segment_times_from_data()\n",
    "# segment_time3, horizontal_offset3 = C3.get_segment_times_from_data()\n",
    "\n",
    "# time_offset = horizontal_offset3 - horizontal_offset2\n",
    "# print(time_offset)\n",
    "\n",
    "trig_times2, horz_offsets2 = C2.get_segment_times()\n",
    "trig_times3, horz_offsets3 = C3.get_segment_times()\n",
    "\n",
    "import numpy as np\n",
    "a = np.array(horz_offsets3) - np.array(horz_offsets2)\n",
    "print(a)\n",
    "\n",
    "print(old.timeoffsets)"
   ]
  },
  {
   "cell_type": "code",
   "execution_count": 8,
   "metadata": {},
   "outputs": [
    {
     "name": "stdout",
     "output_type": "stream",
     "text": [
      "[0.00000000e+00 1.30578814e-03 1.84490192e-03 ... 1.39898682e+01\n",
      " 1.39904239e+01 1.39910333e+01]\n",
      "[-2.50774671e-08 -2.50150210e-08 -2.50934383e-08 ... -2.50540138e-08\n",
      " -2.50371793e-08 -2.50645174e-08]\n",
      "[-2.50774671e-08 -2.50150210e-08 -2.50934383e-08 ... -2.50540138e-08\n",
      " -2.50371793e-08 -2.50645174e-08]\n"
     ]
    }
   ],
   "source": [
    "reload(lecroy)\n",
    "\n",
    "def get_configuration(filepath_in):\n",
    "    import struct\n",
    "    WAVEDESC=11\n",
    "\n",
    "    aWAVE_ARRAY_COUNT\t= WAVEDESC+ 116;\n",
    "    aSUBARRAY_COUNT = WAVEDESC+144\n",
    "    aVERTICAL_GAIN\t\t= WAVEDESC+ 156;\n",
    "    aVERTICAL_OFFSET\t= WAVEDESC+ 160;\n",
    "    aHORIZ_INTERVAL     = WAVEDESC+ 176;\n",
    "    my_file = open(filepath_in, 'rb')\n",
    "    my_file.seek(aVERTICAL_GAIN)\n",
    "    vertical_gain = struct.unpack('f',my_file.read(4))[0]\n",
    "    my_file.seek(aVERTICAL_OFFSET)\n",
    "    vertical_offset = struct.unpack('f',my_file.read(4))[0]\n",
    "    my_file.seek(aHORIZ_INTERVAL)\n",
    "    horizontal_interval = struct.unpack('f',my_file.read(4))[0]\n",
    "    my_file.seek(aSUBARRAY_COUNT)\n",
    "    nsegments      = struct.unpack('i',my_file.read(4))[0]\n",
    "    my_file.seek(aWAVE_ARRAY_COUNT)\n",
    "    WAVE_ARRAY_COUNT    = struct.unpack('i',my_file.read(4))[0]\n",
    "    points_per_frame = int(WAVE_ARRAY_COUNT / nsegments)\n",
    "    my_file.close()\n",
    "    return [nsegments,points_per_frame,horizontal_interval,vertical_gain,vertical_offset]\n",
    "\n",
    "\n",
    "def get_segment_times(filepath_in,offset,nsegments):\n",
    "    import struct\n",
    "    my_file = open(filepath_in, 'rb')\n",
    "    trigger_times = []\n",
    "    horizontal_offsets = []\n",
    "\n",
    "    my_file.seek(offset)\n",
    "    for i_event in range(nsegments):\n",
    "        trigger_times.append(struct.unpack('d',my_file.read(8))[0])\n",
    "        horizontal_offsets.append(struct.unpack('d',my_file.read(8))[0])\n",
    "\n",
    "    my_file.close()\n",
    "    return trigger_times,horizontal_offsets\n",
    "\n",
    "\n",
    "def get_waveform_block_offset(filepath_in):\n",
    "    import struct\n",
    "    my_file = open(filepath_in, 'rb')\n",
    "    WAVEDESC=11\n",
    "\n",
    "    aUSER_TEXT\t\t\t= WAVEDESC+ 40;\t# length of the usertext block\n",
    "    aTRIGTIME_ARRAY     = WAVEDESC+ 48;\n",
    "    aWAVE_DESCRIPTOR\t= WAVEDESC+ 36;\t# length of the descriptor block\n",
    "\n",
    "    my_file.seek(aUSER_TEXT)\n",
    "    USER_TEXT = struct.unpack('i',my_file.read(4))#ReadLong(fid, aUSER_TEXT);\n",
    "    my_file.seek(aTRIGTIME_ARRAY)\n",
    "    TRIGTIME_ARRAY = struct.unpack('i',my_file.read(4))\n",
    "    my_file.seek(aWAVE_DESCRIPTOR)\n",
    "    WAVE_DESCRIPTOR = struct.unpack('i',my_file.read(4))\n",
    "\n",
    "    offset = WAVEDESC + WAVE_DESCRIPTOR[0] + USER_TEXT[0] #+ TRIGTIME_ARRAY[0]\n",
    "    full_offset = WAVEDESC + WAVE_DESCRIPTOR[0] + USER_TEXT[0] + TRIGTIME_ARRAY[0]\n",
    "    my_file.close()\n",
    "    return offset,full_offset\n",
    "\n",
    "base = \"/home/users/hswanson13/ETL_TestingDAQ/\"\n",
    "C1_trc = base+\"unit_test/input_data/run_5100/C1--Trace5100.trc\"\n",
    "C2_trc = base+\"unit_test/input_data/run_5100/C2--Trace5100.trc\" # TRIGGER\n",
    "C3_trc = base+\"unit_test/input_data/run_5100/C3--Trace5100.trc\" # CLOCK\n",
    "C4_trc = base+\"unit_test/input_data/run_5100/C4--Trace5100.trc\"\n",
    "offset, full_offset = get_waveform_block_offset(C2_trc)\n",
    "config = get_configuration(C2_trc)\n",
    "trig_offset, horz_offset = get_segment_times(C2_trc, offset, config[0])\n",
    "\n",
    "# print(offset, full_offset)\n",
    "# print(config)\n",
    "print(np.array(trig_offset))\n",
    "print(np.array(horz_offset))\n",
    "# print(len(horz_offset))\n",
    "\n",
    "C2 = lecroy.LecroyReader(base+\"unit_test/input_data/run_5100/C2--Trace5100.trc\") # TRIGGER\n",
    "# print(C2.offset)\n",
    "# print(C2.sequenceSegments)\n",
    "\n",
    "# print(C2.posWAVEDESC + C2.waveDescriptor + C2.userText)\n",
    "# print(C2.posWAVEDESC + C2.waveDescriptor + C2.userText + C2.trigTimeArray)\n",
    "\n",
    "# Use np.frombuffer to convert the buffer into a NumPy array of doubles\n",
    "import numpy as np\n",
    "print(C2.get_segment_times()[1])\n",
    "\n",
    "# dtype = np.dtype([('trigger', np.float64), ('offset', np.float64)])\n",
    "\n",
    "# with open(C2.path, 'rb') as my_file:\n",
    "#     my_file.seek(C2.offset)\n",
    "#     # Read the data into a buffer\n",
    "#     buffer = my_file.read(C2.sequenceSegments * dtype.itemsize)\n",
    "#     # Use np.frombuffer to create a structured array\n",
    "#     data = np.frombuffer(buffer, dtype=dtype, count=C2.sequenceSegments)\n",
    "    \n",
    "# print(data['trigger'])\n",
    "# print(data['offset'])"
   ]
  },
  {
   "cell_type": "code",
   "execution_count": 74,
   "metadata": {},
   "outputs": [
    {
     "name": "stdout",
     "output_type": "stream",
     "text": [
      "5100357\n"
     ]
    }
   ],
   "source": [
    "print(len(C2.data))"
   ]
  }
 ],
 "metadata": {
  "kernelspec": {
   "display_name": "etl_testing_daq",
   "language": "python",
   "name": "python3"
  },
  "language_info": {
   "codemirror_mode": {
    "name": "ipython",
    "version": 3
   },
   "file_extension": ".py",
   "mimetype": "text/x-python",
   "name": "python",
   "nbconvert_exporter": "python",
   "pygments_lexer": "ipython3",
   "version": "3.12.0"
  }
 },
 "nbformat": 4,
 "nbformat_minor": 2
}
