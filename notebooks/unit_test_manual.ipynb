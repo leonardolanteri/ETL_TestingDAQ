{
 "cells": [
  {
   "cell_type": "code",
   "execution_count": 17,
   "metadata": {},
   "outputs": [],
   "source": [
    "import awkward as ak \n",
    "import json\n",
    "\n",
    "from binary_decoders import etroc\n",
    "import importlib"
   ]
  },
  {
   "cell_type": "code",
   "execution_count": null,
   "metadata": {},
   "outputs": [],
   "source": [
    "importlib.reload(etroc)\n",
    "\n",
    "my_output = etroc.converter(\n",
    "    [\"unit_test/input_data/run_6000/output_run_6000_rb0.dat\", \n",
    "     \"unit_test/input_data/run_6000/output_run_6000_rb1.dat\", \n",
    "     \"unit_test/input_data/run_6000/output_run_6000_rb2.dat\"],\n",
    "    skip_trigger_check=True\n",
    ")"
   ]
  },
  {
   "cell_type": "code",
   "execution_count": null,
   "metadata": {},
   "outputs": [],
   "source": [
    "print(my_output['nhits'].to_list())"
   ]
  },
  {
   "cell_type": "code",
   "execution_count": null,
   "metadata": {},
   "outputs": [],
   "source": [
    "print(38<<2)\n",
    "print(36<<2)\n",
    "print(37<<2)"
   ]
  },
  {
   "cell_type": "code",
   "execution_count": null,
   "metadata": {},
   "outputs": [],
   "source": []
  },
  {
   "cell_type": "code",
   "execution_count": 1,
   "metadata": {},
   "outputs": [
    {
     "name": "stderr",
     "output_type": "stream",
     "text": [
      "INFO:conditional_counter:This will only show up once!\n",
      "INFO:conditional_counter:fart\n"
     ]
    },
    {
     "name": "stdout",
     "output_type": "stream",
     "text": [
      "IF NUMBER: 1\n",
      "FOUND IFS: [1]\n",
      "IF NUMBER: 2\n",
      "FOUND IFS: [1, 2]\n"
     ]
    }
   ],
   "source": [
    "import logging\n",
    "from functools import wraps\n",
    "logging.basicConfig(level=logging.DEBUG)\n",
    "\n",
    "logger = logging.getLogger(\"conditional_counter\")\n",
    "\n",
    "class DuplicateFilter(logging.Filter):\n",
    "    def __init__(self, logger):\n",
    "        super().__init__()\n",
    "        self.logged_messages = set()\n",
    "        self.logger = logger\n",
    "        self.found_ifs = []\n",
    "    def filter(self, record):\n",
    "        if record.msg not in self.logged_messages:\n",
    "            if_number = getattr(record, 'if_number')\n",
    "            print(f\"IF NUMBER: {if_number}\")\n",
    "            self.found_ifs.append(if_number)\n",
    "            print(f\"FOUND IFS: {self.found_ifs}\")\n",
    "            self.logged_messages.add(record.msg)\n",
    "\n",
    "            \n",
    "            return True  \n",
    "        return False\n",
    "\n",
    "    def __call__(self, func):\n",
    "        @wraps(func)\n",
    "        def wrapper(*args, **kwargs):\n",
    "            logger.addFilter(self)\n",
    "            logger.setFormatter(logging.Formatter(' %(name)s - %(levelname)s - %(message)s - %(if_number)%'))\n",
    "            try:\n",
    "                return func(*args, **kwargs)\n",
    "            finally:\n",
    "                logger.removeFilter(self)\n",
    "        return wrapper\n",
    "\n",
    "\n",
    "@DuplicateFilter(logger)\n",
    "def log_messages(a):\n",
    "    for _ in range(5):\n",
    "        logger.info(\"This will only show up once!\", extra={'if_number': 1})\n",
    "        #logger.error(ValueError(\"So will this!\"))\n",
    "        if a==2:\n",
    "            logger.info(\"fart\", extra={'if_number': 2})\n",
    "\n",
    "log_messages(1)\n",
    "\n",
    "log_messages(2)"
   ]
  },
  {
   "cell_type": "code",
   "execution_count": null,
   "metadata": {},
   "outputs": [],
   "source": []
  }
 ],
 "metadata": {
  "kernelspec": {
   "display_name": "etl_testing_daq",
   "language": "python",
   "name": "python3"
  },
  "language_info": {
   "codemirror_mode": {
    "name": "ipython",
    "version": 3
   },
   "file_extension": ".py",
   "mimetype": "text/x-python",
   "name": "python",
   "nbconvert_exporter": "python",
   "pygments_lexer": "ipython3",
   "version": "3.12.0"
  }
 },
 "nbformat": 4,
 "nbformat_minor": 2
}
