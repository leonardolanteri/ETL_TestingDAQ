{
 "cells": [
  {
   "cell_type": "code",
   "execution_count": 1,
   "metadata": {},
   "outputs": [],
   "source": [
    "import awkward as ak\n",
    "import numpy as np\n",
    "import struct "
   ]
  },
  {
   "cell_type": "code",
   "execution_count": 11,
   "metadata": {},
   "outputs": [
    {
     "name": "stdout",
     "output_type": "stream",
     "text": [
      "b',\\xcb3\\\\<\\x00\\x01\\x00\\x8a\\x00\\x00\\x94\\x00\\x00\\x02\\x00,\\xcb3\\\\<\\x1c\\x01\\x00\\x8a\\x00\\x00\\x94\\x00\\x1c\\x02\\x00\\xc8\\x064\\\\<\\x00\\x01\\x00\\xc2\\x00\\x00\\x94\\x00\\x00\\x02\\x00\\xc8\\x064\\\\<\\x1c\\x01\\x00\\xc2\\x00\\x00\\x94\\x00\\x1c\\x02\\x00\\xa8G4\\\\<\\x00\\x01\\x00\\xa7\\xbc9H\\x95\\x00\\x00\\x00K\\x01\\x00\\x94\\x00\\x00\\x02\\x00\\xa8G4\\\\<\\x1c\\x01\\x00#\\x00\\x00\\x94'\n",
      "(1546898220, 65596, 2483028106, 131072, 1546898220, 72764, 2483028106, 138240, 1546913480, 65596, 2483028162, 131072, 1546913480, 72764, 2483028162, 138240, 1546930088, 65596, 1211743399, 149, 2483028299, 131072, 1546930088, 72764, 2483028003, 138240, 1546945314, 65596, 2483028159, 131072, 1546945314, 72764, 2483028159, 138240, 1546961139, 65596, 2483028021, 131072, 1546961139, 72764, 3888228526, 7306, 3340339373, 7304, 3344021678, 7302, 2483028846, 138240, 1546977355, 65596, 2483027987, 131072, 1546977355, 72764, 2483027987, 138240, 1546994892, 65596, 2483028041, 131072, 1546994892, 72764, 2483028041, 138240, 1547011222, 65596, 2483028044, 131072, 1547011222, 72764, 2483028044, 138240, 1547026851, 65596, 2483028057, 131072, 1547026851, 72764, 2483028057, 138240, 1547045448, 65596, 1692084393, 144, 2483028240, 131072, 1547045448, 72764, 2708583598, 7304, 2483028270, 138240, 1547059705, 65596, 2483028050, 131072, 1547059705, 72764, 2483028050, 138240)\n"
     ]
    }
   ],
   "source": [
    "\n",
    "etroc_data = \"./UnitTestData/output_run_5100_rb0.dat\"\n",
    "\n",
    "with open(etroc_data, 'rb') as data:\n",
    "    bin_data = data.read()\n",
    "    print(bin_data[:100])\n",
    "    raw_data = struct.unpack(\n",
    "        f'<{int(len(bin_data) / 4)}I', \n",
    "        bin_data\n",
    "    )\n",
    "    print(raw_data[:100])\n",
    "    \"\"\"\n",
    "    1. <\n",
    "    \n",
    "    Native byte order is big-endian (  >  ) or little-endian (  <  ), depending on the host system. \n",
    "    For example, Intel x86, AMD64 (x86-64), and Apple M1 are little-endian; IBM z and many legacy architectures are big-endian. \n",
    "    Use sys.byteorder to check the endianness of your system\n",
    "\n",
    "    2. int(len(bin_data)/4)\n",
    "\n",
    "\n",
    "    3. I \n",
    "    This means unsigned integer. It is 4 bytes\n",
    "    Unsigned integers represent only non-negative integers and have a larger range of positive numbers than signed integers\n",
    "    \"\"\"\n",
    "\n"
   ]
  },
  {
   "cell_type": "code",
   "execution_count": 13,
   "metadata": {},
   "outputs": [
    {
     "data": {
      "text/plain": [
       "[281734221646636,\n",
       " 562952436449418,\n",
       " 312520547224364,\n",
       " 593738762027146,\n",
       " 281734221661896]"
      ]
     },
     "execution_count": 13,
     "metadata": {},
     "output_type": "execute_result"
    }
   ],
   "source": [
    "def merge_words(res):\n",
    "    empty_frame_mask = np.array(res[0::2]) > (2**8) # masking empty fifo entries\n",
    "    len_cut = min(len(res[0::2]), len(res[1::2]))   # ensuring equal length of arrays downstream\n",
    "    if len(res) > 0:\n",
    "        return list(\n",
    "            np.array(res[0::2])[:len_cut][empty_frame_mask[:len_cut]] | (np.array(res[1::2]) << 32)[:len_cut][empty_frame_mask[:len_cut]]\n",
    "            )\n",
    "    else:\n",
    "        return []\n",
    "\n",
    "merge_words(raw_data[0:10])"
   ]
  }
 ],
 "metadata": {
  "kernelspec": {
   "display_name": "tbanalysis",
   "language": "python",
   "name": "python3"
  },
  "language_info": {
   "codemirror_mode": {
    "name": "ipython",
    "version": 3
   },
   "file_extension": ".py",
   "mimetype": "text/x-python",
   "name": "python",
   "nbconvert_exporter": "python",
   "pygments_lexer": "ipython3",
   "version": "3.12.3"
  }
 },
 "nbformat": 4,
 "nbformat_minor": 2
}
